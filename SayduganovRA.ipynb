{
  "nbformat": 4,
  "nbformat_minor": 0,
  "metadata": {
    "colab": {
      "name": "SayduganovRA.ipynb",
      "provenance": [],
      "collapsed_sections": []
    },
    "kernelspec": {
      "name": "python3",
      "display_name": "Python 3"
    },
    "language_info": {
      "name": "python"
    }
  },
  "cells": [
    {
      "cell_type": "markdown",
      "source": [
        "<H1>Греческий алфавит<H1>"
      ],
      "metadata": {
        "id": "oX5belOjpl9S"
      }
    },
    {
      "cell_type": "markdown",
      "source": [
        "\\begin{array}{ccc}                              \n",
        "\\text{Заглавная}&\\text{Cтрочная}                \n",
        "&\\text{Название}\\\\                               \n",
        "1. \\text{Α}&{α}&Альфа\\\\                           \n",
        "2. \\text{Β}&{β}&Бета\\\\\n",
        "3. \\text{Γ}&{γ}&Гамма \\\\\n",
        "4. \\text{Δ}&{δ}&Дельта \\\\\n",
        "5. \\text{Ε}&{ϵ}&Эпсилон \\\\\n",
        "6. \\text{Ζ}&{ζ}&Дзета \\\\\n",
        "7. \\text{Η}&{η}&Эта  \\\\\n",
        "8. \\text{Θ}&{θ}&Тета\\\\\n",
        "9. \\text{Ι}&{ι}&Йота\\\\\n",
        "10. \\text{Κ}&{κ}&Каппа   \\\\\n",
        "11. \\text{Λ}&{λ}&Лямбда \\\\\n",
        "12. \\text{M}&{μ}&Мю \\\\\n",
        "13. \\text{Ν}&{ν}&Ню  \\\\\n",
        "14. \\text{Ξ}&{ξ}&Кси  \\\\\n",
        "15. \\text{O}&{o}&Омикрон \\\\\n",
        "16. \\text{Π}&{π}&Пи  \\\\\n",
        "17. \\text{Ρ}&{ρ}&Ро   \\\\\n",
        "18. \\text{Σ}&{σ}&Сигма   \\\\\n",
        "19. \\text{Τ}&{τ}&Тау   \\\\\n",
        "20. \\text{Υ}&{υ}&Ипсилон   \\\\\n",
        "21. \\text{Φ}&{ϕ}&Фи  \\\\\n",
        "22. \\text{Χ}&{χ}&Хи   \\\\\n",
        "23. \\text{Ψ}&{ψ}&Пси   \\\\\n",
        "24. \\text{Ω}&{ω}&Омега  \\\\\n",
        " \\end{array}"
      ],
      "metadata": {
        "id": "da8OshLDp4Fb"
      }
    },
    {
      "cell_type": "markdown",
      "source": [
        "Формула в отдельной строке:\n",
        "$${\\displaystyle f(x)}={\\frac{1}{\\sigma\\sqrt{2\\pi}}\n",
        "   \\exp\\left(-\\frac{(x-\\mu)^2}{2\\sigma^2}\\right)}$$\n",
        "\n",
        "Формула в тексте: ${\\displaystyle f(x)}={\\frac{1}{\\sigma\\sqrt{2\\pi}}\n",
        "   \\exp\\left(-\\frac{(x-\\mu)^2}{2\\sigma^2}\\right)}$\n"
      ],
      "metadata": {
        "id": "yS1trEoUqAku"
      }
    },
    {
      "cell_type": "markdown",
      "source": [
        "<H1><strong>Заголовок первого уровня</strong></H1>"
      ],
      "metadata": {
        "id": "_bRDuROErIEr"
      }
    },
    {
      "cell_type": "markdown",
      "source": [
        "<H2><strong>Заголовок второго уровня</strong></H2>"
      ],
      "metadata": {
        "id": "Ad_rPnwdrM0w"
      }
    },
    {
      "cell_type": "markdown",
      "source": [
        "<H3><strong>Заголовок третьего уровня</strong></H3>"
      ],
      "metadata": {
        "id": "ATA7pqzKrPYT"
      }
    }
  ]
}